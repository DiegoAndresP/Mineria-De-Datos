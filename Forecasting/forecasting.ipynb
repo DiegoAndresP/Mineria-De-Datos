{
 "cells": [
  {
   "cell_type": "code",
   "execution_count": null,
   "metadata": {},
   "outputs": [],
   "source": [
    "import pandas as pd\n",
    "from statsmodels.tsa.api import ExponentialSmoothing\n",
    "import matplotlib.pyplot as plt\n",
    "\n",
    "# cargar datos\n",
    "df = pd.read_csv('/home/slayer24/WorkSpace/MINERIA_DE_DATOS/DataSets/vgsales_limp.csv')\n",
    "\n",
    "# seleccionar las columnas de interés\n",
    "df = df[['AÑO', 'GLOBAL_VENTAS']]\n",
    "\n",
    "# convertir la columna AÑO a datetime\n",
    "df['AÑO'] = pd.to_datetime(df['AÑO'], format='%Y')\n",
    "\n",
    "# establecer la columna AÑO como índice\n",
    "df = df.set_index('AÑO')\n",
    "\n",
    "# dividir los datos en train y test\n",
    "train_size = int(len(df) * 0.8)\n",
    "train_data, test_data = df.iloc[:train_size], df.iloc[train_size:]\n",
    "\n",
    "# crear y entrenar el modelo\n",
    "model = ExponentialSmoothing(train_data['GLOBAL_VENTAS'], trend='add', seasonal='add', seasonal_periods=12)\n",
    "fitted_model = model.fit()\n",
    "\n",
    "# hacer el forecasting\n",
    "n_periods = len(test_data)\n",
    "forecast = fitted_model.forecast(n_periods)\n",
    "\n",
    "# graficar los resultados\n",
    "plt.plot(train_data.index, train_data['GLOBAL_VENTAS'], label='Train')\n",
    "plt.plot(test_data.index, test_data['GLOBAL_VENTAS'], label='Test')\n",
    "plt.plot(forecast.index, forecast, label='Forecast')\n",
    "plt.legend(loc='upper left')\n",
    "plt.show()\n"
   ]
  }
 ],
 "metadata": {
  "kernelspec": {
   "display_name": "Python 3",
   "language": "python",
   "name": "python3"
  },
  "language_info": {
   "codemirror_mode": {
    "name": "ipython",
    "version": 3
   },
   "file_extension": ".py",
   "mimetype": "text/x-python",
   "name": "python",
   "nbconvert_exporter": "python",
   "pygments_lexer": "ipython3",
   "version": "3.10.6"
  },
  "orig_nbformat": 4
 },
 "nbformat": 4,
 "nbformat_minor": 2
}
