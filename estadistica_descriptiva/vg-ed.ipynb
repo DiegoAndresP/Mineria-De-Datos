{
 "cells": [
  {
   "cell_type": "code",
   "execution_count": 2,
   "metadata": {},
   "outputs": [
    {
     "name": "stdout",
     "output_type": "stream",
     "text": [
      "       Unnamed: 0                                            NOMBRE  \\\n",
      "0               0                                        Wii Sports   \n",
      "1               1                                 Super Mario Bros.   \n",
      "2               2                                    Mario Kart Wii   \n",
      "3               3                                 Wii Sports Resort   \n",
      "4               4                          Pokemon Red/Pokemon Blue   \n",
      "...           ...                                               ...   \n",
      "16593       16593                Woody Woodpecker in Crazy Castle 5   \n",
      "16594       16594                     Men in Black II: Alien Escape   \n",
      "16595       16595  SCORE International Baja 1000: The Official Game   \n",
      "16596       16596                                        Know How 2   \n",
      "16597       16597                                  Spirits & Spells   \n",
      "\n",
      "      PLATAFORMA     AÑO        GENERO    COMPAÑIA  N.A_VENTAS  EUR_VENTAS  \\\n",
      "0            Wii  2006.0        Sports    Nintendo       41.49       29.02   \n",
      "1            NES  1985.0      Platform    Nintendo       29.08        3.58   \n",
      "2            Wii  2008.0        Racing    Nintendo       15.85       12.88   \n",
      "3            Wii  2009.0        Sports    Nintendo       15.75       11.01   \n",
      "4             GB  1996.0  Role-Playing    Nintendo       11.27        8.89   \n",
      "...          ...     ...           ...         ...         ...         ...   \n",
      "16593        GBA  2002.0      Platform       Kemco        0.01        0.00   \n",
      "16594         GC  2003.0       Shooter  Infogrames        0.01        0.00   \n",
      "16595        PS2  2008.0        Racing  Activision        0.00        0.00   \n",
      "16596         DS  2010.0        Puzzle    7G//AMES        0.00        0.01   \n",
      "16597        GBA  2003.0      Platform     Wanadoo        0.01        0.00   \n",
      "\n",
      "       JP_VENTAS  OTRAS_VENTAS  GLOBAL_VENTAS  \n",
      "0           3.77          8.46          82.74  \n",
      "1           6.81          0.77          40.24  \n",
      "2           3.79          3.31          35.82  \n",
      "3           3.28          2.96          33.00  \n",
      "4          10.22          1.00          31.37  \n",
      "...          ...           ...            ...  \n",
      "16593       0.00          0.00           0.01  \n",
      "16594       0.00          0.00           0.01  \n",
      "16595       0.00          0.00           0.01  \n",
      "16596       0.00          0.00           0.01  \n",
      "16597       0.00          0.00           0.01  \n",
      "\n",
      "[16598 rows x 11 columns]\n"
     ]
    }
   ],
   "source": [
    "import pandas as pd\n",
    "import numpy as np\n",
    "\n",
    "vg = pd.read_csv('/home/slayer24/WorkSpace/MINERIA_DE_DATOS/DataSets/vgsales_limp.csv')\n",
    "print(vg)\n"
   ]
  },
  {
   "cell_type": "code",
   "execution_count": 7,
   "metadata": {},
   "outputs": [
    {
     "name": "stdout",
     "output_type": "stream",
     "text": [
      "Cantidad de videojuegos por genero\n",
      "col_0         CANTIDAD\n",
      "GENERO                \n",
      "Action            3316\n",
      "Adventure         1286\n",
      "Fighting           848\n",
      "Misc              1739\n",
      "Platform           886\n",
      "Puzzle             582\n",
      "Racing            1249\n",
      "Role-Playing      1488\n",
      "Shooter           1310\n",
      "Simulation         867\n",
      "Sports            2346\n",
      "Strategy           681\n"
     ]
    }
   ],
   "source": [
    "#Cantidad de videojuegos por genero\n",
    "cantidad_vd_genero= pd.crosstab(index=vg[\"GENERO\"],columns=\"CANTIDAD\")\n",
    "print(\"Cantidad de videojuegos por genero\")\n",
    "print(cantidad_vd_genero)\n",
    "cantidad_vd_genero=cantidad_vd_genero.to_csv('/home/slayer24/WorkSpace/MINERIA_DE_DATOS/DataSets/Ds_estadistica_desc/Cantidad_vd_genero.csv', index=True)\n",
    "\n"
   ]
  },
  {
   "cell_type": "code",
   "execution_count": 8,
   "metadata": {},
   "outputs": [
    {
     "name": "stdout",
     "output_type": "stream",
     "text": [
      "Cantidad de videojuegos por plataforma\n",
      "col_0       CANTIDAD\n",
      "PLATAFORMA          \n",
      "2600             133\n",
      "3DO                3\n",
      "3DS              509\n",
      "DC                52\n",
      "DS              2163\n",
      "GB                98\n",
      "GBA              822\n",
      "GC               556\n",
      "GEN               27\n",
      "GG                 1\n",
      "N64              319\n",
      "NES               98\n",
      "NG                12\n",
      "PC               960\n",
      "PCFX               1\n",
      "PS              1196\n",
      "PS2             2161\n",
      "PS3             1329\n",
      "PS4              336\n",
      "PSP             1213\n",
      "PSV              413\n",
      "SAT              173\n",
      "SCD                6\n",
      "SNES             239\n",
      "TG16               2\n",
      "WS                 6\n",
      "Wii             1325\n",
      "WiiU             143\n",
      "X360            1265\n",
      "XB               824\n",
      "XOne             213\n"
     ]
    }
   ],
   "source": [
    "#Cantidad de videojuegos por plataforma\n",
    "cantidad_vd_plataforma=pd.crosstab(index=vg[\"PLATAFORMA\"],columns=\"CANTIDAD\")\n",
    "print(\"Cantidad de videojuegos por plataforma\")\n",
    "print(cantidad_vd_plataforma)\n",
    "cantidad_vd_plataforma=cantidad_vd_plataforma.to_csv('/home/slayer24/WorkSpace/MINERIA_DE_DATOS/DataSets/Ds_estadistica_desc/Cantidad_vd_plataforma.csv', index=True)\n"
   ]
  },
  {
   "cell_type": "code",
   "execution_count": 9,
   "metadata": {},
   "outputs": [
    {
     "name": "stdout",
     "output_type": "stream",
     "text": [
      "Cantidad de videojuegos por año\n",
      "col_0   CANTIDAD\n",
      "AÑO             \n",
      "1980.0         9\n",
      "1981.0        46\n",
      "1982.0        36\n",
      "1983.0        17\n",
      "1984.0        14\n",
      "1985.0        14\n",
      "1986.0        21\n",
      "1987.0        16\n",
      "1988.0        15\n",
      "1989.0        17\n",
      "1990.0        16\n",
      "1991.0        41\n",
      "1992.0        43\n",
      "1993.0        60\n",
      "1994.0       121\n",
      "1995.0       219\n",
      "1996.0       263\n",
      "1997.0       289\n",
      "1998.0       379\n",
      "1999.0       338\n",
      "2000.0       349\n",
      "2001.0       482\n",
      "2002.0       829\n",
      "2003.0       775\n",
      "2004.0       763\n",
      "2005.0       941\n",
      "2006.0      1008\n",
      "2007.0      1202\n",
      "2008.0      1428\n",
      "2009.0      1431\n",
      "2010.0      1259\n",
      "2011.0      1139\n",
      "2012.0       657\n",
      "2013.0       546\n",
      "2014.0       582\n",
      "2015.0       614\n",
      "2016.0       344\n",
      "2017.0         3\n",
      "2020.0         1\n"
     ]
    }
   ],
   "source": [
    "#Cantidad de videojuegos por Año\n",
    "cantidad_vd_año=pd.crosstab(index=vg[\"AÑO\"],columns=\"CANTIDAD\")\n",
    "print('Cantidad de videojuegos por año')\n",
    "print(cantidad_vd_año)\n",
    "cantidad_vd_año=cantidad_vd_año.to_csv('/home/slayer24/WorkSpace/MINERIA_DE_DATOS/DataSets/Ds_estadistica_desc/Cantidad_vd_año.csv', index=True)\n"
   ]
  },
  {
   "cell_type": "code",
   "execution_count": 12,
   "metadata": {},
   "outputs": [
    {
     "name": "stdout",
     "output_type": "stream",
     "text": [
      "Cantidad de ventas por genero\n",
      "GENERO\n",
      "Action          1751.18\n",
      "Adventure        239.04\n",
      "Fighting         448.91\n",
      "Misc             809.96\n",
      "Platform         831.37\n",
      "Puzzle           244.95\n",
      "Racing           732.04\n",
      "Role-Playing     927.37\n",
      "Shooter         1037.37\n",
      "Simulation       392.20\n",
      "Sports          1330.93\n",
      "Strategy         175.12\n",
      "Name: GLOBAL_VENTAS, dtype: float64\n"
     ]
    }
   ],
   "source": [
    "ventas_genero = vg.groupby('GENERO')['GLOBAL_VENTAS'].sum()\n",
    "print(\"Cantidad de ventas por genero\")\n",
    "print(ventas_genero)\n",
    "ventas_genero=ventas_genero.to_csv('/home/slayer24/WorkSpace/MINERIA_DE_DATOS/DataSets/Ds_estadistica_desc/ventas_genero.csv', index=True)\n"
   ]
  },
  {
   "cell_type": "code",
   "execution_count": 13,
   "metadata": {},
   "outputs": [
    {
     "name": "stdout",
     "output_type": "stream",
     "text": [
      "Cantidad de ventas por Compañia\n",
      "COMPAÑIA\n",
      "Nintendo                       1786.56\n",
      "Electronic Arts                1110.32\n",
      "Activision                      727.46\n",
      "Sony Computer Entertainment     607.50\n",
      "Ubisoft                         474.72\n",
      "                                ...   \n",
      "Ongakukan                         0.01\n",
      "Commseed                          0.01\n",
      "Takuyo                            0.01\n",
      "Boost On                          0.01\n",
      "Naxat Soft                        0.01\n",
      "Name: GLOBAL_VENTAS, Length: 578, dtype: float64\n"
     ]
    }
   ],
   "source": [
    "ventas_compañia_gl = vg.groupby('COMPAÑIA')['GLOBAL_VENTAS'].sum().sort_values(ascending=False)\n",
    "print(\"Cantidad de ventas por Compañia\")\n",
    "print(ventas_compañia_gl)\n",
    "ventas_compañia_gl=ventas_compañia_gl.to_csv('/home/slayer24/WorkSpace/MINERIA_DE_DATOS/DataSets/Ds_estadistica_desc/ventas_compañia_gl.csv', index=True)\n"
   ]
  },
  {
   "cell_type": "code",
   "execution_count": 3,
   "metadata": {},
   "outputs": [
    {
     "name": "stdout",
     "output_type": "stream",
     "text": [
      "Promedio de ventas globales por año\n",
      "       AÑO  GLOBAL_VENTAS\n",
      "0   1980.0       1.264444\n",
      "1   1981.0       0.777609\n",
      "2   1982.0       0.801667\n",
      "3   1983.0       0.987647\n",
      "4   1984.0       3.597143\n",
      "5   1985.0       3.852857\n",
      "6   1986.0       1.765238\n",
      "7   1987.0       1.358750\n",
      "8   1988.0       3.148000\n",
      "9   1989.0       4.320588\n",
      "10  1990.0       3.086875\n",
      "11  1991.0       0.786098\n",
      "12  1992.0       1.771163\n",
      "13  1993.0       0.766333\n",
      "14  1994.0       0.654298\n",
      "15  1995.0       0.402329\n",
      "16  1996.0       0.757224\n",
      "17  1997.0       0.695433\n",
      "18  1998.0       0.676702\n",
      "19  1999.0       0.743402\n",
      "20  2000.0       0.577536\n",
      "21  2001.0       0.687697\n",
      "22  2002.0       0.477105\n",
      "23  2003.0       0.461742\n",
      "24  2004.0       0.549554\n",
      "25  2005.0       0.488778\n",
      "26  2006.0       0.516905\n",
      "27  2007.0       0.508428\n",
      "28  2008.0       0.475420\n",
      "29  2009.0       0.466317\n",
      "30  2010.0       0.476926\n",
      "31  2011.0       0.453020\n",
      "32  2012.0       0.553333\n",
      "33  2013.0       0.674194\n",
      "34  2014.0       0.579124\n",
      "35  2015.0       0.430684\n",
      "36  2016.0       0.206192\n",
      "37  2017.0       0.016667\n",
      "38  2020.0       0.290000\n"
     ]
    }
   ],
   "source": [
    "promedio_ventas_gl_año = vg.groupby('AÑO')['GLOBAL_VENTAS'].mean().reset_index()\n",
    "print(\"Promedio de ventas globales por año\")\n",
    "print(promedio_ventas_gl_año)\n",
    "promedio_ventas_gl_año=promedio_ventas_gl_año.to_csv('/home/slayer24/WorkSpace/MINERIA_DE_DATOS/DataSets/Ds_estadistica_desc/promedio_ventas_gl_año.csv', index=True)\n",
    "\n"
   ]
  },
  {
   "cell_type": "code",
   "execution_count": 4,
   "metadata": {},
   "outputs": [
    {
     "name": "stdout",
     "output_type": "stream",
     "text": [
      "Promedio de ventas por plataforma de forma global\n",
      "   PLATAFORMA  GLOBAL_VENTAS\n",
      "0        2600       0.729925\n",
      "1         3DO       0.033333\n",
      "2         3DS       0.486169\n",
      "3          DC       0.307115\n",
      "4          DS       0.380254\n",
      "5          GB       2.606633\n",
      "6         GBA       0.387470\n",
      "7          GC       0.358561\n",
      "8         GEN       1.050370\n",
      "9          GG       0.040000\n",
      "10        N64       0.686144\n",
      "11        NES       2.561939\n",
      "12         NG       0.120000\n",
      "13         PC       0.269604\n",
      "14       PCFX       0.030000\n",
      "15         PS       0.610920\n",
      "16        PS2       0.581046\n",
      "17        PS3       0.720722\n",
      "18        PS4       0.827679\n",
      "19        PSP       0.244254\n",
      "20        PSV       0.149952\n",
      "21        SAT       0.194162\n",
      "22        SCD       0.311667\n",
      "23       SNES       0.837029\n",
      "24       TG16       0.080000\n",
      "25         WS       0.236667\n",
      "26        Wii       0.699404\n",
      "27       WiiU       0.572448\n",
      "28       X360       0.774672\n",
      "29         XB       0.313422\n",
      "30       XOne       0.662254\n"
     ]
    }
   ],
   "source": [
    "promedio_ventas_plataforma_gl = vg.groupby('PLATAFORMA')['GLOBAL_VENTAS'].mean().reset_index()\n",
    "print(\"Promedio de ventas por plataforma de forma global\")\n",
    "print(promedio_ventas_plataforma_gl)\n",
    "promedio_ventas_plataforma_gl=promedio_ventas_plataforma_gl.to_csv('/home/slayer24/WorkSpace/MINERIA_DE_DATOS/DataSets/Ds_estadistica_desc/promedio_ventas_plataforma_gl.csv', index=True)\n"
   ]
  },
  {
   "cell_type": "code",
   "execution_count": 5,
   "metadata": {},
   "outputs": [
    {
     "name": "stdout",
     "output_type": "stream",
     "text": [
      "Promedio de ventas por genero\n",
      "          GENERO  GLOBAL_VENTAS\n",
      "0         Action       0.528100\n",
      "1      Adventure       0.185879\n",
      "2       Fighting       0.529375\n",
      "3           Misc       0.465762\n",
      "4       Platform       0.938341\n",
      "5         Puzzle       0.420876\n",
      "6         Racing       0.586101\n",
      "7   Role-Playing       0.623233\n",
      "8        Shooter       0.791885\n",
      "9     Simulation       0.452364\n",
      "10        Sports       0.567319\n",
      "11      Strategy       0.257151\n"
     ]
    }
   ],
   "source": [
    "promedio_ventas_genero_gl = vg.groupby('GENERO')['GLOBAL_VENTAS'].mean().reset_index()\n",
    "print(\"Promedio de ventas por genero\")\n",
    "print(promedio_ventas_genero_gl)\n",
    "promedio_ventas_genero_gl=promedio_ventas_genero_gl.to_csv('/home/slayer24/WorkSpace/MINERIA_DE_DATOS/DataSets/Ds_estadistica_desc/promedio_ventas_genero_gl.csv', index=True)\n"
   ]
  },
  {
   "cell_type": "code",
   "execution_count": 19,
   "metadata": {},
   "outputs": [
    {
     "name": "stdout",
     "output_type": "stream",
     "text": [
      "Los 10 juegos con el menor promedio de ventas en la región N.A_VENTAS son:\n",
      "                                                  NOMBRE  N.A_VENTAS\n",
      "11492                       ¡Shin Chan Flipa en colores!         0.0\n",
      "9523                   Tactics Layer: Ritina Guard Senki         0.0\n",
      "4402                          Invizimals: The Resistance         0.0\n",
      "4401                         Invizimals: The Lost Tribes         0.0\n",
      "4400                        Invizimals: The Lost Kingdom         0.0\n",
      "4399                            Invizimals: The Alliance         0.0\n",
      "9526                         Tag Team Match M.U.S.C.L.E.         0.0\n",
      "9527   Tago Akira no Atama no Taisou Dai-1-Shuu: Nazo...         0.0\n",
      "9522   Tabi no Yubisashi Kaiwachou DS: DS Series 5 De...         0.0\n",
      "4391                       InuYasha: A Feudal Fairy Tale         0.0\n",
      "Los 10 juegos con el menor promedio de ventas en la región EUR_VENTAS son:\n",
      "                                                 NOMBRE  EUR_VENTAS\n",
      "5746       Mega Man Star Force 3: Black Ace / Red Joker         0.0\n",
      "5702               Medarot 2: Kabuto / Kuwagata Version         0.0\n",
      "5701                                          Medalot 7         0.0\n",
      "5694  Medal of Honor: European Assault (weekly JP sa...         0.0\n",
      "5684  Medabots Girls Mission: Metabee Ver. / Rokusho...         0.0\n",
      "5683                   Medabots Dual: Kabuto / Kuwagata         0.0\n",
      "5681                      Medabots 9: Metabee / Rokusho         0.0\n",
      "5680                                         Medabots 8         0.0\n",
      "5679                                  Mechanic Master 2         0.0\n",
      "5678                                    Mechanic Master         0.0\n",
      "Los 10 juegos con el menor promedio de ventas en la región JP_VENTAS son:\n",
      "                                     NOMBRE  JP_VENTAS\n",
      "9755            The Bachelor: The Videogame        0.0\n",
      "5669              McFarlane's Evil Prophecy        0.0\n",
      "5667                       Mazes of Fate DS        0.0\n",
      "5666  Maze Craze: A Game of Cops 'n Robbers        0.0\n",
      "5665                              Mayhem 3D        0.0\n",
      "5664      May's Mystery: Forbidden Memories        0.0\n",
      "5663      Maximum Racing: GP Classic Racing        0.0\n",
      "5662     Maximum Racing: Drag & Stock Racer        0.0\n",
      "5661        Maximum Racing: Crash Car Racer        0.0\n",
      "5660                          Maximum Force        0.0\n",
      "Los 10 juegos con el menor promedio de ventas en la región OTRAS_VENTAS son:\n",
      "                                   NOMBRE  OTRAS_VENTAS\n",
      "11492        ¡Shin Chan Flipa en colores!           0.0\n",
      "4569       Jikkyou Powerful Pro Yakuu '94           0.0\n",
      "4568   Jikkyou Powerful Pro Baseball 2016           0.0\n",
      "4567   Jikkyou Powerful Major League 2009           0.0\n",
      "4566        Jikkyou Powerful Major League           0.0\n",
      "4565            Jikkyou Oshaberi Parodius           0.0\n",
      "4564     Jikkyou J-League Perfect Striker           0.0\n",
      "4563          Jikandia: The Timeless Land           0.0\n",
      "4562                Jig-A-Pix: Wild World           0.0\n",
      "4561                      Jig-A-Pix: Pets           0.0\n",
      "Los 10 juegos con el menor promedio de ventas en la región GLOBAL_VENTAS son:\n",
      "                                                 NOMBRE  GLOBAL_VENTAS\n",
      "1631  Coronation Street: The Mystery of the Missing ...           0.01\n",
      "2971                            FairlyLife: MiracleDays           0.01\n",
      "8298                          San-X: Chara Sagashi Land           0.01\n",
      "7086                                            Paragon           0.01\n",
      "5069                                  Kurogane Kaikitan           0.01\n",
      "8300      Sangoku Koi Senki: Omoide Gaeshi - CS Edition           0.01\n",
      "7087                 Paranormal Pursuit: The Gifted One           0.01\n",
      "4804  Katekyoo Hitman Reborn Nerae!? Ring x Bongole ...           0.01\n",
      "1723                                   Crossroad Crisis           0.01\n",
      "8680  Simple DS Series Vol. 14: The Jidousha Kyoushu...           0.01\n"
     ]
    }
   ],
   "source": [
    "n = 10  # número de juegos con el menor promedio de ventas\n",
    "region_columns = ['N.A_VENTAS', 'EUR_VENTAS', 'JP_VENTAS', 'OTRAS_VENTAS', 'GLOBAL_VENTAS']\n",
    "for region in region_columns:\n",
    "    juegos_menos_ventas = vg.groupby('NOMBRE')[region].mean().reset_index()\n",
    "    juegos_menos_ventas = juegos_menos_ventas.sort_values(region, ascending=True).head(n)\n",
    "    print(f\"Los {n} juegos con el menor promedio de ventas en la región {region} son:\")\n",
    "    print(juegos_menos_ventas[['NOMBRE', region]])\n",
    "juegos_menos_ventas=juegos_menos_ventas.to_csv('/home/slayer24/WorkSpace/MINERIA_DE_DATOS/DataSets/Ds_estadistica_desc/juegos_menos_ventas.csv', index=True)\n"
   ]
  },
  {
   "cell_type": "code",
   "execution_count": 7,
   "metadata": {},
   "outputs": [
    {
     "name": "stdout",
     "output_type": "stream",
     "text": [
      "Los 10 juegos con el mayor promedio de ventas en la región N.A_VENTAS son:\n",
      "                          NOMBRE  N.A_VENTAS\n",
      "11007                 Wii Sports      41.490\n",
      "2590                   Duck Hunt      26.930\n",
      "9327           Super Mario Bros.      16.240\n",
      "5573              Mario Kart Wii      15.850\n",
      "11009          Wii Sports Resort      15.750\n",
      "4917          Kinect Adventures!      14.970\n",
      "6726   New Super Mario Bros. Wii      14.590\n",
      "11005                   Wii Play      14.030\n",
      "9715                      Tetris      13.085\n",
      "6723       New Super Mario Bros.      11.380\n",
      "Los 10 juegos con el mayor promedio de ventas en la región EUR_VENTAS son:\n",
      "                                             NOMBRE  EUR_VENTAS\n",
      "11007                                    Wii Sports       29.02\n",
      "5573                                 Mario Kart Wii       12.88\n",
      "11009                             Wii Sports Resort       11.01\n",
      "6793                                     Nintendogs       11.00\n",
      "1005   Brain Age: Train Your Brain in Minutes a Day        9.26\n",
      "6723                          New Super Mario Bros.        9.23\n",
      "11005                                      Wii Play        9.20\n",
      "7346                       Pokemon Red/Pokemon Blue        8.89\n",
      "11000                                  Wii Fit Plus        8.59\n",
      "10999                                       Wii Fit        8.03\n",
      "Los 10 juegos con el mayor promedio de ventas en la región JP_VENTAS son:\n",
      "                                           NOMBRE  JP_VENTAS\n",
      "7346                     Pokemon Red/Pokemon Blue      10.22\n",
      "7333                  Pokemon Gold/Pokemon Silver       7.20\n",
      "6723                        New Super Mario Bros.       6.50\n",
      "7331                Pokemon Diamond/Pokemon Pearl       6.04\n",
      "7325                  Pokemon Black/Pokemon White       5.65\n",
      "7347                Pokemon Ruby/Pokemon Sapphire       5.38\n",
      "350                   Animal Crossing: Wild World       5.33\n",
      "1003  Brain Age 2: More Training in Minutes a Day       5.32\n",
      "6057                     Monster Hunter Freedom 3       4.87\n",
      "6726                    New Super Mario Bros. Wii       4.70\n",
      "Los 10 juegos con el mayor promedio de ventas en la región OTRAS_VENTAS son:\n",
      "                              NOMBRE  OTRAS_VENTAS\n",
      "11007                     Wii Sports          8.46\n",
      "3694                  Gran Turismo 4          7.53\n",
      "5573                  Mario Kart Wii          3.31\n",
      "11009              Wii Sports Resort          2.96\n",
      "6723           New Super Mario Bros.          2.90\n",
      "11005                       Wii Play          2.85\n",
      "6793                      Nintendogs          2.75\n",
      "3716   Grand Theft Auto: San Andreas          2.68\n",
      "6726       New Super Mario Bros. Wii          2.26\n",
      "10999                        Wii Fit          2.15\n",
      "Los 10 juegos con el mayor promedio de ventas en la región GLOBAL_VENTAS son:\n",
      "                          NOMBRE  GLOBAL_VENTAS\n",
      "11007                 Wii Sports          82.74\n",
      "5573              Mario Kart Wii          35.82\n",
      "11009          Wii Sports Resort          33.00\n",
      "7346    Pokemon Red/Pokemon Blue          31.37\n",
      "6723       New Super Mario Bros.          30.01\n",
      "11005                   Wii Play          29.02\n",
      "6726   New Super Mario Bros. Wii          28.62\n",
      "2590                   Duck Hunt          28.31\n",
      "6793                  Nintendogs          24.76\n",
      "5572               Mario Kart DS          23.42\n"
     ]
    }
   ],
   "source": [
    "\n",
    "n=10\n",
    "region_columns = ['N.A_VENTAS', 'EUR_VENTAS', 'JP_VENTAS', 'OTRAS_VENTAS', 'GLOBAL_VENTAS']\n",
    "for region in region_columns:\n",
    "    juegos_mayor_ventas = vg.groupby('NOMBRE')[region].mean().reset_index()\n",
    "    juegos_mayor_ventas = juegos_mayor_ventas.sort_values(region, ascending= False).head(n)\n",
    "    print(f\"Los {n} juegos con el mayor promedio de ventas en la región {region} son:\")\n",
    "    print(juegos_mayor_ventas[['NOMBRE', region]])\n",
    "\n",
    "    juegos_mayor_ventas.to_csv(f'/home/slayer24/WorkSpace/MINERIA_DE_DATOS/DataSets/Ds_estadistica_desc/juegos_mayor_ventas_{region}.csv', index=True)\n"
   ]
  }
 ],
 "metadata": {
  "kernelspec": {
   "display_name": "Python 3",
   "language": "python",
   "name": "python3"
  },
  "language_info": {
   "codemirror_mode": {
    "name": "ipython",
    "version": 3
   },
   "file_extension": ".py",
   "mimetype": "text/x-python",
   "name": "python",
   "nbconvert_exporter": "python",
   "pygments_lexer": "ipython3",
   "version": "3.10.6"
  },
  "orig_nbformat": 4,
  "vscode": {
   "interpreter": {
    "hash": "31f2aee4e71d21fbe5cf8b01ff0e069b9275f58929596ceb00d14d90e3e16cd6"
   }
  }
 },
 "nbformat": 4,
 "nbformat_minor": 2
}
